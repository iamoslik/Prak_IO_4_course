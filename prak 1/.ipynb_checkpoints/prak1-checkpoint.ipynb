{
 "cells": [
  {
   "cell_type": "markdown",
   "id": "d8be5cd7-9a7e-42d2-92ee-2b67f6ee8955",
   "metadata": {},
   "source": [
    "# Метод штрафных функций с правилом скорейшего спуска\n",
    "###  Студент: Ефремова Ольга Игоревна 411 гр."
   ]
  },
  {
   "cell_type": "code",
   "execution_count": null,
   "id": "5a83532f-c8bb-4e38-93fc-e40806fa242d",
   "metadata": {},
   "outputs": [],
   "source": [
    "import numpy as np\n",
    "import sympy\n",
    "import pandas as pd\n",
    "from sympy.abc import x, a, y, b , c, d ,z, w\n",
    "from sympy import sin, pi, cos, tan, log, exp, sqrt\n",
    "from numpy import linalg as LA"
   ]
  },
  {
   "cell_type": "markdown",
   "id": "3596cf84-982a-42af-a73c-73bde631df77",
   "metadata": {},
   "source": [
    "Метод штрафных функций применим для решения задачи\n",
    "$$ J(u) -> inf ; u \\in U, $$\n",
    "$$ U = \\{u \\in U_0: g_i(u) \\leq 0, i = \\overline{1,m}; g_i(u) = 0, i = \\overline{m+1,s}\\}$$"
   ]
  },
  {
   "cell_type": "markdown",
   "id": "df64dc70-d2aa-45c7-8398-d2d9cd21eb8b",
   "metadata": {},
   "source": [
    "Скорейший спуск"
   ]
  },
  {
   "cell_type": "code",
   "execution_count": null,
   "id": "c737c53a-ee89-4df7-a16c-641b438dc3b2",
   "metadata": {},
   "outputs": [],
   "source": [
    "def mininize(fn : FuncWithGradient, x, restriction_functions) -> float:\n",
    "    grad = fn.get_gradient(x)\n",
    "    l, r = 0, 1e9\n",
    "    while r - l > 0.001:\n",
    "        mid = (r + l) / 2.\n",
    "        if (all([f.check_point(x - mid * grad) for f in restriction_functions])):\n",
    "            l = mid\n",
    "        else:\n",
    "            r = mid\n",
    "    left_border, right_border = 0, l\n",
    "    if left_border > right_border:\n",
    "        left_border, right_border = right_border, left_border\n",
    "    print(\"Left right borders: {}, {} gradient: {}\".format(left_border, right_border, str(grad)))\n",
    "\n",
    "    val = minimize_scalar(lambda l: fn.get_func(x - l * grad), bounds=[left_border, right_border], method='bounded').x\n",
    "    return x - val * grad\n",
    "\n",
    "def fast_descent_method(fn : FuncWithGradient, start_point, restriction_functions, eps=0.00001) -> float:\n",
    "    return mininize(fn, start_point, restriction_functions)"
   ]
  }
 ],
 "metadata": {
  "kernelspec": {
   "display_name": "Python 3 (ipykernel)",
   "language": "python",
   "name": "python3"
  },
  "language_info": {
   "codemirror_mode": {
    "name": "ipython",
    "version": 3
   },
   "file_extension": ".py",
   "mimetype": "text/x-python",
   "name": "python",
   "nbconvert_exporter": "python",
   "pygments_lexer": "ipython3",
   "version": "3.9.7"
  }
 },
 "nbformat": 4,
 "nbformat_minor": 5
}
